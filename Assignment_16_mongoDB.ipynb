{
 "cells": [
  {
   "cell_type": "markdown",
   "id": "5080a3e3",
   "metadata": {},
   "source": [
    "#### Q1. What is MongoDB? Explain non-relational databases in short. In which scenarios it is preferred to use MongoDB over SQL databases?"
   ]
  },
  {
   "cell_type": "code",
   "execution_count": null,
   "id": "cd90c9ca",
   "metadata": {},
   "outputs": [],
   "source": [
    "MongoDB is a NoSQL database for handling unstructured or semi-structured data. Non-relational databases like MongoDB \n",
    "are preferred when you need flexibility in data structures, scalability, real-time analytics, and high write throughput.\n",
    "SQL databases are better for structured data and complex relationships.JSON-like format called BSON. It is designed \n",
    "for handling large volumes of unstructured or semi-structured data They are designed to handle various types of data, offer high scalability and flexibility,\n",
    "and often use different data models, such as document-based (like MongoDB), key-value, column-family, and graph.\n"
   ]
  },
  {
   "cell_type": "markdown",
   "id": "ebae8620",
   "metadata": {},
   "source": [
    "#### Q2. State and Explain the features of MongoDB."
   ]
  },
  {
   "cell_type": "code",
   "execution_count": null,
   "id": "2d598c6f",
   "metadata": {},
   "outputs": [],
   "source": [
    "MongoDB features include flexible schema, scalability, high performance, JSON-like documents, automatic sharding,\n",
    "ad hoc queries, indexing, aggregation framework, replication, geospatial support, security, \n",
    "schema validation, text search, community and enterprise editions, and a rich ecosystem."
   ]
  },
  {
   "cell_type": "markdown",
   "id": "9d3fd8ca",
   "metadata": {},
   "source": [
    "#### Q3. Write a code to connect MongoDB to Python. Also, create a database and a collection in MongoDB."
   ]
  },
  {
   "cell_type": "code",
   "execution_count": null,
   "id": "0b6d14ca",
   "metadata": {},
   "outputs": [],
   "source": [
    "import pymongo\n",
    "\n",
    "# Connect to the MongoDB server running locally (you can replace \"localhost\" and 27017 with your server's address and port)\n",
    "client = pymongo.MongoClient(\"localhost\", 27017)\n",
    "\n",
    "# Create or access a database named \"mydatabase\"\n",
    "db = client[\"mydatabase\"]\n",
    "\n",
    "# Create or access a collection named \"mycollection\" within the \"mydatabase\" database\n",
    "collection = db[\"mycollection\"]\n",
    "\n",
    "# Insert a document into the collection\n",
    "data = {\n",
    "    \"name\": \"John\",\n",
    "    \"age\": 30,\n",
    "    \"city\": \"New York\"\n",
    "}\n",
    "inserted = collection.insert_one(data)\n",
    "\n",
    "# Print the ID of the inserted document\n",
    "print(f\"Inserted document ID: {inserted.inserted_id}\")\n",
    "\n",
    "# Close the MongoDB connection when you're done\n",
    "client.close()\n"
   ]
  },
  {
   "cell_type": "markdown",
   "id": "abb8d2fb",
   "metadata": {},
   "source": [
    "#### Q4. Using the database and the collection created in question number 3, write a code to insert one record, and insert many records. Use the find() and find_one() methods to print the inserted record."
   ]
  },
  {
   "cell_type": "code",
   "execution_count": null,
   "id": "9b156679",
   "metadata": {},
   "outputs": [],
   "source": [
    "import pymongo\n",
    "\n",
    "# Connect to the MongoDB server\n",
    "client = pymongo.MongoClient(\"localhost\", 27017)\n",
    "\n",
    "# Access the \"mydatabase\" database and \"mycollection\" collection\n",
    "db = client[\"mydatabase\"]\n",
    "collection = db[\"mycollection\"]\n",
    "\n",
    "# Insert one record\n",
    "data_one = {\n",
    "    \"name\": \"Alice\",\n",
    "    \"age\": 25,\n",
    "    \"city\": \"Los Angeles\"\n",
    "}\n",
    "inserted_one = collection.insert_one(data_one)\n",
    "\n",
    "# Insert multiple records (as a list of dictionaries)\n",
    "data_many = [\n",
    "    {\n",
    "        \"name\": \"Bob\",\n",
    "        \"age\": 28,\n",
    "        \"city\": \"Chicago\"\n",
    "    },\n",
    "    {\n",
    "        \"name\": \"Carol\",\n",
    "        \"age\": 22,\n",
    "        \"city\": \"Houston\"\n",
    "    }\n",
    "]\n",
    "inserted_many = collection.insert_many(data_many)\n",
    "\n",
    "# Find and print the inserted records using find_one()\n",
    "print(\"Inserted One Record:\")\n",
    "print(collection.find_one({\"name\": \"Alice\"}))\n",
    "\n",
    "# Find and print all inserted records using find()\n",
    "print(\"\\nInserted Many Records:\")\n",
    "cursor = collection.find({})\n",
    "for record in cursor:\n",
    "    print(record)\n",
    "\n",
    "# Close the MongoDB connection\n",
    "client.close()\n"
   ]
  },
  {
   "cell_type": "markdown",
   "id": "f3e6ca27",
   "metadata": {},
   "source": [
    "#### Q5. Explain how you can use the find() method to query the MongoDB database. Write a simple code to demonstrate this."
   ]
  },
  {
   "cell_type": "code",
   "execution_count": null,
   "id": "cf859bdf",
   "metadata": {},
   "outputs": [],
   "source": [
    "In MongoDB, the `find()` method is used to query the database and retrieve documents that match specified criteria. \n",
    "The method returns a cursor to the result set, which allows you to iterate through the documents that meet the query\n",
    "conditions.\n",
    "\n",
    "Here's a simple code example that demonstrates how to use the `find()` method to query a MongoDB database:\n",
    "\n",
    "## syntax\n",
    "import pymongo\n",
    "\n",
    "# Connect to the MongoDB server\n",
    "client = pymongo.MongoClient(\"localhost\", 27017)\n",
    "\n",
    "# Access the \"mydatabase\" database and \"mycollection\" collection\n",
    "db = client[\"mydatabase\"]\n",
    "collection = db[\"mycollection\"]\n",
    "\n",
    "# Define a query to find documents where the \"city\" field is \"New York\"\n",
    "query = {\"city\": \"New York\"}\n",
    "\n",
    "# Use the find() method to execute the query\n",
    "cursor = collection.find(query)\n",
    "\n",
    "# Iterate through the cursor and print matching documents\n",
    "print(\"Matching Documents:\")\n",
    "for document in cursor:\n",
    "    print(document)\n",
    "\n",
    "# Close the MongoDB connection\n",
    "client.close()\n",
    "\n",
    "\n",
    "In this code, we connect to the MongoDB server, access the \"mydatabase\" database and \"mycollection\" collection, and \n",
    "define a query to find documents where the \"city\" field is \"New York.\" We then use the `find()` method to execute the \n",
    "query, and iterate through the cursor to print the matching documents. Finally, we close the MongoDB connection.\n",
    "\n",
    "The `find()` method allows you to specify various query conditions and retrieve documents based on your specific criteria,\n",
    "making it a powerful tool for data retrieval in MongoDB."
   ]
  },
  {
   "cell_type": "markdown",
   "id": "781dc4fd",
   "metadata": {},
   "source": [
    "#### Q6. Explain the sort() method. Give an example to demonstrate sorting in MongoDB."
   ]
  },
  {
   "cell_type": "code",
   "execution_count": null,
   "id": "b4402a03",
   "metadata": {},
   "outputs": [],
   "source": [
    "In MongoDB, the `sort()` method is used to sort the result set of a query in ascending or descending order based on one \n",
    "or more fields in the documents. You can use this method to control the order in which the documents are returned from a\n",
    "query.\n",
    "\n",
    "The `sort()` method takes an argument that specifies the sorting criteria. You can use the field names in the criteria to\n",
    "sort the documents based on those fields. By default, `sort()` arranges documents in ascending order, but you can specify \n",
    "`-1` for descending order.\n",
    "\n",
    "Here's an example to demonstrate sorting in MongoDB:\n",
    "\n",
    "Suppose you have a collection named \"students\" with documents containing student information like this:\n",
    "\n",
    "## json\n",
    "{\n",
    "    \"name\": \"Alice\",\n",
    "    \"age\": 22,\n",
    "    \"score\": 85\n",
    "}\n",
    "{\n",
    "    \"name\": \"Bob\",\n",
    "    \"age\": 20,\n",
    "    \"score\": 95\n",
    "}\n",
    "{\n",
    "    \"name\": \"Carol\",\n",
    "    \"age\": 23,\n",
    "    \"score\": 78\n",
    "}\n",
    "\n",
    "\n",
    "To sort these documents by the \"score\" field in descending order:\n",
    "\n",
    "## python\n",
    "import pymongo\n",
    "\n",
    "# Connect to the MongoDB server\n",
    "client = pymongo.MongoClient(\"localhost\", 27017)\n",
    "\n",
    "# Access the \"mydatabase\" database and \"students\" collection\n",
    "db = client[\"mydatabase\"]\n",
    "collection = db[\"students\"]\n",
    "\n",
    "# Use the sort() method to sort the documents by the \"score\" field in descending order\n",
    "sorted_documents = collection.find().sort(\"score\", -1)\n",
    "\n",
    "# Iterate through the sorted cursor and print the sorted documents\n",
    "print(\"Sorted Documents (by score in descending order):\")\n",
    "for document in sorted_documents:\n",
    "    print(document)\n",
    "\n",
    "# Close the MongoDB connection\n",
    "client.close()\n",
    "\n",
    "\n",
    "In this example, we connect to the MongoDB server, access the \"mydatabase\" database and \"students\" collection, \n",
    "and use the `sort()` method to sort the documents by the \"score\" field in descending order. The result set is then\n",
    "iterated through and printed, showing the sorted documents in descending order of their scores."
   ]
  },
  {
   "cell_type": "markdown",
   "id": "374e80f4",
   "metadata": {},
   "source": [
    "#### Q7. Explain why delete_one(), delete_many(), and drop() is used."
   ]
  },
  {
   "cell_type": "code",
   "execution_count": null,
   "id": "f1875fd9",
   "metadata": {},
   "outputs": [],
   "source": [
    "- `delete_one(filter)` is used to delete a single document that matches the specified filter criteria in a collection.\n",
    "- `delete_many(filter)` is used to delete multiple documents that match the specified filter criteria in a collection.\n",
    "- `drop()` is used to delete an entire collection, including all documents within it, from the database."
   ]
  }
 ],
 "metadata": {
  "kernelspec": {
   "display_name": "Python 3 (ipykernel)",
   "language": "python",
   "name": "python3"
  },
  "language_info": {
   "codemirror_mode": {
    "name": "ipython",
    "version": 3
   },
   "file_extension": ".py",
   "mimetype": "text/x-python",
   "name": "python",
   "nbconvert_exporter": "python",
   "pygments_lexer": "ipython3",
   "version": "3.9.13"
  }
 },
 "nbformat": 4,
 "nbformat_minor": 5
}
